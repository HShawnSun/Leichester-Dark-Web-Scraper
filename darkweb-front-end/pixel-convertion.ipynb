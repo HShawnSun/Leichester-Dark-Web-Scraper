{
 "cells": [
  {
   "cell_type": "code",
   "execution_count": 2,
   "metadata": {},
   "outputs": [],
   "source": [
    "from PIL import Image\n",
    "\n",
    "def resize_image(input_image_path, output_image_path, size=(200, 200)):\n",
    "    with Image.open(input_image_path) as image:\n",
    "        image = image.resize(size)\n",
    "        image.save(output_image_path)"
   ]
  },
  {
   "cell_type": "code",
   "execution_count": 3,
   "metadata": {},
   "outputs": [],
   "source": [
    "\n",
    "resize_image('K:/Year-3/GRP/leics-police-logo.png', './src/assets/img/logo.png')"
   ]
  },
  {
   "cell_type": "code",
   "execution_count": 4,
   "metadata": {},
   "outputs": [],
   "source": [
    "def resize_image1(input_image_path, output_image_path, size=(1024, 1024)):\n",
    "    with Image.open(input_image_path) as image:\n",
    "        image = image.resize(size)\n",
    "        image.save(output_image_path)"
   ]
  },
  {
   "cell_type": "code",
   "execution_count": 6,
   "metadata": {},
   "outputs": [],
   "source": [
    "resize_image1('K:/Year-3/GRP/leics-police-logo.png', './src/assets/img/username.png')"
   ]
  }
 ],
 "metadata": {
  "kernelspec": {
   "display_name": "base",
   "language": "python",
   "name": "python3"
  },
  "language_info": {
   "codemirror_mode": {
    "name": "ipython",
    "version": 3
   },
   "file_extension": ".py",
   "mimetype": "text/x-python",
   "name": "python",
   "nbconvert_exporter": "python",
   "pygments_lexer": "ipython3",
   "version": "3.11.4"
  }
 },
 "nbformat": 4,
 "nbformat_minor": 2
}
